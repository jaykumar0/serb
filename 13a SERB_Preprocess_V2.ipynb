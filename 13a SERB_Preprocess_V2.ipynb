{
 "cells": [
  {
   "cell_type": "code",
   "execution_count": 1,
   "metadata": {},
   "outputs": [],
   "source": [
    "import pandas as pd\n",
    "import numpy as np"
   ]
  },
  {
   "cell_type": "code",
   "execution_count": 2,
   "metadata": {},
   "outputs": [],
   "source": [
    "pd.set_option(\"max_colwidth\", 140)"
   ]
  },
  {
   "cell_type": "code",
   "execution_count": 3,
   "metadata": {},
   "outputs": [
    {
     "data": {
      "text/plain": [
       "(4667, 11)"
      ]
     },
     "execution_count": 3,
     "metadata": {},
     "output_type": "execute_result"
    }
   ],
   "source": [
    "# Read the cleaned file \n",
    "df = pd.read_excel('ed2\\SERB_all_5_yrs_V2_ed.xlsx')\n",
    "df.shape"
   ]
  },
  {
   "cell_type": "code",
   "execution_count": 4,
   "metadata": {},
   "outputs": [
    {
     "data": {
      "text/html": [
       "<div>\n",
       "<style scoped>\n",
       "    .dataframe tbody tr th:only-of-type {\n",
       "        vertical-align: middle;\n",
       "    }\n",
       "\n",
       "    .dataframe tbody tr th {\n",
       "        vertical-align: top;\n",
       "    }\n",
       "\n",
       "    .dataframe thead th {\n",
       "        text-align: right;\n",
       "    }\n",
       "</style>\n",
       "<table border=\"1\" class=\"dataframe\">\n",
       "  <thead>\n",
       "    <tr style=\"text-align: right;\">\n",
       "      <th></th>\n",
       "      <th>Discipline</th>\n",
       "      <th>Sub Area</th>\n",
       "      <th>Title</th>\n",
       "      <th>PI Details</th>\n",
       "      <th>Total Cost</th>\n",
       "      <th>Year</th>\n",
       "      <th>Professor</th>\n",
       "      <th>Institute</th>\n",
       "      <th>PinCode</th>\n",
       "      <th>State</th>\n",
       "      <th>TIER-I</th>\n",
       "    </tr>\n",
       "  </thead>\n",
       "  <tbody>\n",
       "    <tr>\n",
       "      <th>0</th>\n",
       "      <td>Chemical Sciences</td>\n",
       "      <td>Inorganic and Physical Chemistry</td>\n",
       "      <td>Advanced Materials Towards Electrocatalytic Oxygen Evolution Reaction For Sustainable Energy Conversion</td>\n",
       "      <td>Tharamani Chikka Nagaiah, Indian Institute of Technology Ropar, Ropar,Punjab, 140001</td>\n",
       "      <td>5783370</td>\n",
       "      <td>2019-20</td>\n",
       "      <td>Tharamani Chikka Nagaiah</td>\n",
       "      <td>Indian Institute of Technology Ropar, Ropar,Punjab, 140001</td>\n",
       "      <td>140001.0</td>\n",
       "      <td>Punjab</td>\n",
       "      <td>IITs</td>\n",
       "    </tr>\n",
       "    <tr>\n",
       "      <th>1</th>\n",
       "      <td>Chemical Sciences</td>\n",
       "      <td>Inorganic and Physical Chemistry</td>\n",
       "      <td>Chemistry In Self-Assembled Coordination Architectures</td>\n",
       "      <td>Partha Sarathi Mukherjee, Indian Institute of Science,Bangalore, Bangalore,Karnataka, 560012</td>\n",
       "      <td>5519890</td>\n",
       "      <td>2019-20</td>\n",
       "      <td>Partha Sarathi Mukherjee</td>\n",
       "      <td>Indian Institute of Science,Bangalore, Bangalore,Karnataka, 560012</td>\n",
       "      <td>560012.0</td>\n",
       "      <td>Karnataka</td>\n",
       "      <td>IISc</td>\n",
       "    </tr>\n",
       "    <tr>\n",
       "      <th>2</th>\n",
       "      <td>Chemical Sciences</td>\n",
       "      <td>Inorganic and Physical Chemistry</td>\n",
       "      <td>Detoxification of Arsenic Compounds: Enzyme Mimetic Studies To Understand The Methylation of Arsenic By Ar(III) S-Adenosylmethione (SAM)...</td>\n",
       "      <td>Gouriprasanna Roy, Shiv Nadar University, Gautambudh Nagar,Uttar Pradesh, 203207</td>\n",
       "      <td>5953775</td>\n",
       "      <td>2019-20</td>\n",
       "      <td>Gouriprasanna Roy</td>\n",
       "      <td>Shiv Nadar University, Gautambudh Nagar,Uttar Pradesh, 203207</td>\n",
       "      <td>203207.0</td>\n",
       "      <td>Uttar Pradesh</td>\n",
       "      <td>Others</td>\n",
       "    </tr>\n",
       "    <tr>\n",
       "      <th>3</th>\n",
       "      <td>Chemical Sciences</td>\n",
       "      <td>Inorganic and Physical Chemistry</td>\n",
       "      <td>Investigation of Zintl phases as efficient thermoelectric materials for energy conversion</td>\n",
       "      <td>Manoj Raama Varma, National Institute For Interdisciplinary Science &amp; Technology, Thiruvananthapuram,Kerala,6 95019</td>\n",
       "      <td>3034800</td>\n",
       "      <td>2019-20</td>\n",
       "      <td>Manoj Raama Varma</td>\n",
       "      <td>National Institute For Interdisciplinary Science &amp; Technology, Thiruvananthapuram,Kerala,6 95019</td>\n",
       "      <td>NaN</td>\n",
       "      <td>Kerala</td>\n",
       "      <td>Other TIER-I</td>\n",
       "    </tr>\n",
       "    <tr>\n",
       "      <th>4</th>\n",
       "      <td>Chemical Sciences</td>\n",
       "      <td>Inorganic and Physical Chemistry</td>\n",
       "      <td>High Potency of Complex Dietary Β-Glucan Fibers As Cholesterol And Low-Density Lipoprotein Lowering Agents: A Comprehensive Mechanistic ...</td>\n",
       "      <td>Durba Roy, Birla Institute of Technology And Science Pilani-Hyderabad, Hyderabad,Telangana, 500078</td>\n",
       "      <td>3666520</td>\n",
       "      <td>2019-20</td>\n",
       "      <td>Durba Roy</td>\n",
       "      <td>Birla Institute of Technology And Science Pilani-Hyderabad, Hyderabad,Telangana, 500078</td>\n",
       "      <td>500078.0</td>\n",
       "      <td>Telangana</td>\n",
       "      <td>BITS</td>\n",
       "    </tr>\n",
       "    <tr>\n",
       "      <th>5</th>\n",
       "      <td>Chemical Sciences</td>\n",
       "      <td>Inorganic and Physical Chemistry</td>\n",
       "      <td>Photophysics of Acetylene Bridged Push-Pull Systems: Torsional Effects On Local, Intramolecular Charge Transfer And Aggregate Emissions</td>\n",
       "      <td>Ashok Kumar Mishra, Indian Institute of Technology Madras, Chennai,Tamil Nadu, 600036</td>\n",
       "      <td>4573890</td>\n",
       "      <td>2019-20</td>\n",
       "      <td>Ashok Kumar Mishra</td>\n",
       "      <td>Indian Institute of Technology Madras, Chennai,Tamil Nadu, 600036</td>\n",
       "      <td>600036.0</td>\n",
       "      <td>Tamil Nadu</td>\n",
       "      <td>IITs</td>\n",
       "    </tr>\n",
       "    <tr>\n",
       "      <th>6</th>\n",
       "      <td>Chemical Sciences</td>\n",
       "      <td>Inorganic and Physical Chemistry</td>\n",
       "      <td>Metal-Based Targeted Photodynamic Therapy In Red Light</td>\n",
       "      <td>Akhil Ranjan Chakravarty, Indian Institute of Science,Bangalore, Bangalore,Karnataka, 560012</td>\n",
       "      <td>4128695</td>\n",
       "      <td>2019-20</td>\n",
       "      <td>Akhil Ranjan Chakravarty</td>\n",
       "      <td>Indian Institute of Science,Bangalore, Bangalore,Karnataka, 560012</td>\n",
       "      <td>560012.0</td>\n",
       "      <td>Karnataka</td>\n",
       "      <td>IISc</td>\n",
       "    </tr>\n",
       "    <tr>\n",
       "      <th>7</th>\n",
       "      <td>Chemical Sciences</td>\n",
       "      <td>Inorganic and Physical Chemistry</td>\n",
       "      <td>Chemical Transformations of Clathrate Hydrates Under Ultra- High Vacuum*</td>\n",
       "      <td>T Pradeep, Indian Institute of Technology Madras, Chennai,Tamil Nadu, 600036</td>\n",
       "      <td>7653890</td>\n",
       "      <td>2019-20</td>\n",
       "      <td>T Pradeep</td>\n",
       "      <td>Indian Institute of Technology Madras, Chennai,Tamil Nadu, 600036</td>\n",
       "      <td>600036.0</td>\n",
       "      <td>Tamil Nadu</td>\n",
       "      <td>IITs</td>\n",
       "    </tr>\n",
       "    <tr>\n",
       "      <th>8</th>\n",
       "      <td>Chemical Sciences</td>\n",
       "      <td>Inorganic and Physical Chemistry</td>\n",
       "      <td>Investigation of Charge Transport In Proteins And Organic Polymers of Relevance To Electrochemical Processes And Systems</td>\n",
       "      <td>Aninda Jiban Bhattacharyya, Indian Institute of Science, Bangalore, Bangalore,Karnataka, 560012</td>\n",
       "      <td>5657695</td>\n",
       "      <td>2019-20</td>\n",
       "      <td>Aninda Jiban Bhattacharyya</td>\n",
       "      <td>Indian Institute of Science, Bangalore, Bangalore,Karnataka, 560012</td>\n",
       "      <td>560012.0</td>\n",
       "      <td>Karnataka</td>\n",
       "      <td>IISc</td>\n",
       "    </tr>\n",
       "    <tr>\n",
       "      <th>9</th>\n",
       "      <td>Chemical Sciences</td>\n",
       "      <td>Inorganic and Physical Chemistry</td>\n",
       "      <td>Computational Studies On Charge Transfer And Hole Migration Dynamics In Functionalized Bimetallic Nanocluster</td>\n",
       "      <td>Ganga Periyasamy, Bangalore University, Bangalore,Karnataka, 560056</td>\n",
       "      <td>3178485</td>\n",
       "      <td>2019-20</td>\n",
       "      <td>Ganga Periyasamy</td>\n",
       "      <td>Bangalore University, Bangalore,Karnataka, 560056</td>\n",
       "      <td>560056.0</td>\n",
       "      <td>Karnataka</td>\n",
       "      <td>Others</td>\n",
       "    </tr>\n",
       "  </tbody>\n",
       "</table>\n",
       "</div>"
      ],
      "text/plain": [
       "          Discipline                          Sub Area  \\\n",
       "0  Chemical Sciences  Inorganic and Physical Chemistry   \n",
       "1  Chemical Sciences  Inorganic and Physical Chemistry   \n",
       "2  Chemical Sciences  Inorganic and Physical Chemistry   \n",
       "3  Chemical Sciences  Inorganic and Physical Chemistry   \n",
       "4  Chemical Sciences  Inorganic and Physical Chemistry   \n",
       "5  Chemical Sciences  Inorganic and Physical Chemistry   \n",
       "6  Chemical Sciences  Inorganic and Physical Chemistry   \n",
       "7  Chemical Sciences  Inorganic and Physical Chemistry   \n",
       "8  Chemical Sciences  Inorganic and Physical Chemistry   \n",
       "9  Chemical Sciences  Inorganic and Physical Chemistry   \n",
       "\n",
       "                                                                                                                                         Title  \\\n",
       "0                                      Advanced Materials Towards Electrocatalytic Oxygen Evolution Reaction For Sustainable Energy Conversion   \n",
       "1                                                                                       Chemistry In Self-Assembled Coordination Architectures   \n",
       "2  Detoxification of Arsenic Compounds: Enzyme Mimetic Studies To Understand The Methylation of Arsenic By Ar(III) S-Adenosylmethione (SAM)...   \n",
       "3                                                    Investigation of Zintl phases as efficient thermoelectric materials for energy conversion   \n",
       "4  High Potency of Complex Dietary Β-Glucan Fibers As Cholesterol And Low-Density Lipoprotein Lowering Agents: A Comprehensive Mechanistic ...   \n",
       "5      Photophysics of Acetylene Bridged Push-Pull Systems: Torsional Effects On Local, Intramolecular Charge Transfer And Aggregate Emissions   \n",
       "6                                                                                       Metal-Based Targeted Photodynamic Therapy In Red Light   \n",
       "7                                                                     Chemical Transformations of Clathrate Hydrates Under Ultra- High Vacuum*   \n",
       "8                     Investigation of Charge Transport In Proteins And Organic Polymers of Relevance To Electrochemical Processes And Systems   \n",
       "9                                Computational Studies On Charge Transfer And Hole Migration Dynamics In Functionalized Bimetallic Nanocluster   \n",
       "\n",
       "                                                                                                            PI Details  \\\n",
       "0                                 Tharamani Chikka Nagaiah, Indian Institute of Technology Ropar, Ropar,Punjab, 140001   \n",
       "1                         Partha Sarathi Mukherjee, Indian Institute of Science,Bangalore, Bangalore,Karnataka, 560012   \n",
       "2                                     Gouriprasanna Roy, Shiv Nadar University, Gautambudh Nagar,Uttar Pradesh, 203207   \n",
       "3  Manoj Raama Varma, National Institute For Interdisciplinary Science & Technology, Thiruvananthapuram,Kerala,6 95019   \n",
       "4                   Durba Roy, Birla Institute of Technology And Science Pilani-Hyderabad, Hyderabad,Telangana, 500078   \n",
       "5                                Ashok Kumar Mishra, Indian Institute of Technology Madras, Chennai,Tamil Nadu, 600036   \n",
       "6                         Akhil Ranjan Chakravarty, Indian Institute of Science,Bangalore, Bangalore,Karnataka, 560012   \n",
       "7                                         T Pradeep, Indian Institute of Technology Madras, Chennai,Tamil Nadu, 600036   \n",
       "8                      Aninda Jiban Bhattacharyya, Indian Institute of Science, Bangalore, Bangalore,Karnataka, 560012   \n",
       "9                                                  Ganga Periyasamy, Bangalore University, Bangalore,Karnataka, 560056   \n",
       "\n",
       "   Total Cost     Year                   Professor  \\\n",
       "0     5783370  2019-20    Tharamani Chikka Nagaiah   \n",
       "1     5519890  2019-20    Partha Sarathi Mukherjee   \n",
       "2     5953775  2019-20           Gouriprasanna Roy   \n",
       "3     3034800  2019-20           Manoj Raama Varma   \n",
       "4     3666520  2019-20                   Durba Roy   \n",
       "5     4573890  2019-20          Ashok Kumar Mishra   \n",
       "6     4128695  2019-20    Akhil Ranjan Chakravarty   \n",
       "7     7653890  2019-20                   T Pradeep   \n",
       "8     5657695  2019-20  Aninda Jiban Bhattacharyya   \n",
       "9     3178485  2019-20            Ganga Periyasamy   \n",
       "\n",
       "                                                                                           Institute  \\\n",
       "0                                         Indian Institute of Technology Ropar, Ropar,Punjab, 140001   \n",
       "1                                 Indian Institute of Science,Bangalore, Bangalore,Karnataka, 560012   \n",
       "2                                      Shiv Nadar University, Gautambudh Nagar,Uttar Pradesh, 203207   \n",
       "3   National Institute For Interdisciplinary Science & Technology, Thiruvananthapuram,Kerala,6 95019   \n",
       "4            Birla Institute of Technology And Science Pilani-Hyderabad, Hyderabad,Telangana, 500078   \n",
       "5                                  Indian Institute of Technology Madras, Chennai,Tamil Nadu, 600036   \n",
       "6                                 Indian Institute of Science,Bangalore, Bangalore,Karnataka, 560012   \n",
       "7                                  Indian Institute of Technology Madras, Chennai,Tamil Nadu, 600036   \n",
       "8                                Indian Institute of Science, Bangalore, Bangalore,Karnataka, 560012   \n",
       "9                                                  Bangalore University, Bangalore,Karnataka, 560056   \n",
       "\n",
       "    PinCode          State        TIER-I  \n",
       "0  140001.0         Punjab          IITs  \n",
       "1  560012.0      Karnataka          IISc  \n",
       "2  203207.0  Uttar Pradesh        Others  \n",
       "3       NaN         Kerala  Other TIER-I  \n",
       "4  500078.0      Telangana          BITS  \n",
       "5  600036.0     Tamil Nadu          IITs  \n",
       "6  560012.0      Karnataka          IISc  \n",
       "7  600036.0     Tamil Nadu          IITs  \n",
       "8  560012.0      Karnataka          IISc  \n",
       "9  560056.0      Karnataka        Others  "
      ]
     },
     "execution_count": 4,
     "metadata": {},
     "output_type": "execute_result"
    }
   ],
   "source": [
    "df.head(10)"
   ]
  },
  {
   "cell_type": "code",
   "execution_count": 5,
   "metadata": {},
   "outputs": [
    {
     "data": {
      "text/plain": [
       "Discipline      0\n",
       "Sub Area        0\n",
       "Title           0\n",
       "PI Details      0\n",
       "Total Cost      0\n",
       "Year            0\n",
       "Professor       0\n",
       "Institute       0\n",
       "PinCode       436\n",
       "State           0\n",
       "TIER-I          0\n",
       "dtype: int64"
      ]
     },
     "execution_count": 5,
     "metadata": {},
     "output_type": "execute_result"
    }
   ],
   "source": [
    "# Check for nan columns\n",
    "df.isna().sum()"
   ]
  },
  {
   "cell_type": "code",
   "execution_count": 6,
   "metadata": {},
   "outputs": [
    {
     "name": "stdout",
     "output_type": "stream",
     "text": [
      "Discipline :  0\n",
      "Sub Area :  0\n",
      "Title :  0\n",
      "PI Details :  0\n",
      "Year :  0\n",
      "Professor :  0\n",
      "Institute :  0\n",
      "State :  0\n",
      "TIER-I :  0\n"
     ]
    }
   ],
   "source": [
    "# Check for spaces in the column\n",
    "for col in df.select_dtypes(include = ['object']):\n",
    "    print(col,': ',df[col].str.isspace().sum())"
   ]
  },
  {
   "cell_type": "code",
   "execution_count": 7,
   "metadata": {},
   "outputs": [],
   "source": [
    "# Check fields "
   ]
  },
  {
   "cell_type": "code",
   "execution_count": 8,
   "metadata": {},
   "outputs": [
    {
     "data": {
      "text/plain": [
       "Life Sciences                   1594\n",
       "Chemical Sciences                784\n",
       "Engineering Sciences             730\n",
       "EMR                              641\n",
       "Physical Sciences                630\n",
       "Earth & Atmospheric Sciences     150\n",
       "Mathematical Sciences            138\n",
       "Name: Discipline, dtype: int64"
      ]
     },
     "execution_count": 8,
     "metadata": {},
     "output_type": "execute_result"
    }
   ],
   "source": [
    "df['Discipline'].value_counts()"
   ]
  },
  {
   "cell_type": "code",
   "execution_count": 9,
   "metadata": {},
   "outputs": [
    {
     "data": {
      "text/plain": [
       "EMR                                                           641\n",
       "Physical Sciences                                             630\n",
       "Health Sciences                                               562\n",
       "Inorganic and Physical Chemistry                              475\n",
       "Organic Chemistry                                             303\n",
       "Plant Sciences                                                298\n",
       "Biophysics, Biochemistry, Molecular Biology & Microbiology    290\n",
       "Animal Sciences                                               287\n",
       "Electrical, Electronics & Computer Engineering                262\n",
       "Civil And Mechanical Engineering                              186\n",
       "Earth & Atmospheric Sciences                                  150\n",
       "Materials, Mining & Minerals Engineering                      145\n",
       "Mathematical Sciences                                         138\n",
       "Chemical & Environmental Engineering                          137\n",
       "Biomedical And Health Sciences                                 86\n",
       "Interdiscipilnary Biological Sciences                          71\n",
       "Engineering Science                                             6\n",
       "Name: Sub Area, dtype: int64"
      ]
     },
     "execution_count": 9,
     "metadata": {},
     "output_type": "execute_result"
    }
   ],
   "source": [
    "df['Sub Area'].value_counts()"
   ]
  },
  {
   "cell_type": "code",
   "execution_count": 10,
   "metadata": {},
   "outputs": [
    {
     "data": {
      "text/plain": [
       "Dr. Anil Kumar           4\n",
       "Dr. Ashwin Dalal         3\n",
       "Dr. Manish Kumar         3\n",
       "Prof.Naresh Bhatnagar    2\n",
       "Dr.S.Suresh              2\n",
       "Dr. Debabrata Ghosh      2\n",
       "Sanjay Kumar             2\n",
       "Dr. Sandeep Verma        2\n",
       "Dr. Amit Sharma          2\n",
       "Prof.Sisir Roy           2\n",
       "Name: Professor, dtype: int64"
      ]
     },
     "execution_count": 10,
     "metadata": {},
     "output_type": "execute_result"
    }
   ],
   "source": [
    "df['Professor'].value_counts().head(10)"
   ]
  },
  {
   "cell_type": "code",
   "execution_count": 11,
   "metadata": {},
   "outputs": [
    {
     "data": {
      "text/plain": [
       " Indian Institute of Technology Bombay, Mumbai,Maharashtra, 400076           38\n",
       " Indian Institute of Technology Madras, Chennai,Tamil Nadu, 600036           33\n",
       " Indian Institute of Science, Bangalore, Bangalore,Karnataka, 560012         31\n",
       " Indian Institute of Technology Kharagpur, Kharagpur,West Bengal, 721302     30\n",
       " Indian Institute of Technology Delhi, New Delhi,Delhi, 110016               26\n",
       " Indian Institute of Technology Kanpur, Kanpur,Uttar Pradesh, 208016         25\n",
       " Indian institute of Technology Kanpur, Kanpur, Uttar Pradesh, 208016        21\n",
       " Indian Institute of Technology Guwahati, Guwahati,Assam, 781039             20\n",
       " Indian Institute of Technology Roorkee, Roorkee,Uttarakhand, 247667         19\n",
       " Indian institute of Technology Bombay, Mumbai, Maharashtra, 400076          19\n",
       " University of Hyderabad, Hyderabad,Telangana, 500046                        16\n",
       " Indian institute of Science,Banglore, Bangalore, Karnataka, 560012          15\n",
       "  Indian Institute of  Science, Bangalore,  Bangalore, Karnataka,  560012    14\n",
       "Indian Institute of Science Bangalore 560012 Karnataka                       14\n",
       "  Indian Institute of  Technology Bombay,  Mumbai, Maharashtra,  400076      14\n",
       " Banaras Hindu University, Varanasi,Uttar Pradesh, 221005                    14\n",
       " Indian institute of Technology Madras, Chennai, Tamil Nadu, 600036          14\n",
       "  Indian Institute of  Technology Roorkee,  Roorkee, Uttarakhand,  247667    13\n",
       "  Central Drug Research  Institute, Lucknow, Uttar  Pradesh, 226031          13\n",
       " All india institute of Medical Sciences, Delhi, New Delhi, Delhi, 110029    12\n",
       "Name: Institute, dtype: int64"
      ]
     },
     "execution_count": 11,
     "metadata": {},
     "output_type": "execute_result"
    }
   ],
   "source": [
    "df['Institute'].value_counts().head(20)"
   ]
  },
  {
   "cell_type": "code",
   "execution_count": 12,
   "metadata": {},
   "outputs": [],
   "source": [
    "# Trim  it, remove multiple spaces, remove spaces after ',' and make it proper case\n",
    "# Trim\n",
    "df['Institute'] = df['Institute'].str.strip()\n",
    "# Remove mutiple spaces \n",
    "df['Institute'] = df['Institute'].apply(lambda s: \" \".join(s.split()))\n",
    "# Remove spaces after comma\n",
    "df['Institute'] = df['Institute'].str.replace(', ',',',regex=False)\n",
    "# Make it proper case\n",
    "df['Institute'] = df['Institute'].str.title()"
   ]
  },
  {
   "cell_type": "code",
   "execution_count": 13,
   "metadata": {},
   "outputs": [
    {
     "data": {
      "text/plain": [
       "Indian Institute Of Technology Bombay,Mumbai,Maharashtra,400076                           92\n",
       "Indian Institute Of Science,Bangalore,Bangalore,Karnataka,560012                          92\n",
       "Indian Institute Of Technology Madras,Chennai,Tamil Nadu,600036                           75\n",
       "Indian Institute Of Technology Kanpur,Kanpur,Uttar Pradesh,208016                         68\n",
       "Indian Institute Of Technology Kharagpur,Kharagpur,West Bengal,721302                     61\n",
       "Indian Institute Of Technology Delhi,New Delhi,Delhi,110016                               50\n",
       "Indian Institute Of Technology Roorkee,Roorkee,Uttarakhand,247667                         44\n",
       "University Of Hyderabad,Hyderabad,Telangana,500046                                        44\n",
       "All India Institute Of Medical Sciences,Delhi,New Delhi,Delhi,110029                      39\n",
       "Indian Institute Of Technology Guwahati,Guwahati,Assam,781039                             37\n",
       "Indian Institute Of Science Education And Research Bhopal,Bhopal,Madhya Pradesh,462023    34\n",
       "Indian Institute Of Science Education And Research Pune,Pune,Maharashtra,411008           33\n",
       "Indian Association For The Cultivation Of Science,Kolkata,West Bengal,700032              31\n",
       "Central Drug Research Institute,Lucknow,Uttar Pradesh,226031                              30\n",
       "Indian Institute Of Science Education And Research Kolkata,Nadia,West Bengal,741246       29\n",
       "National Institute Of Technology Rourkela,Rourkela,Orissa,769008                          29\n",
       "University Of Delhi,Delhi,Delhi,110007                                                    28\n",
       "Banaras Hindu University,Varanasi,Uttar Pradesh,221005                                    27\n",
       "Jawaharlal Nehru University,New Delhi,Delhi,110067                                        25\n",
       "National Chemical Laboratory,Pune,Maharashtra,411008                                      23\n",
       "Name: Institute, dtype: int64"
      ]
     },
     "execution_count": 13,
     "metadata": {},
     "output_type": "execute_result"
    }
   ],
   "source": [
    "df['Institute'].value_counts().head(20)"
   ]
  },
  {
   "cell_type": "code",
   "execution_count": 14,
   "metadata": {},
   "outputs": [],
   "source": [
    "# Check for Tier1 colleges again\n",
    "def tier_1(col):\n",
    "    if (\"indian institute of technology\" in col.lower()):\n",
    "        return 'IITs'\n",
    "    elif (\"national institute of technology\" in col.lower()):\n",
    "        return 'NITs'\n",
    "    elif (\"jawaharlal nehru centre\" in col.lower()):\n",
    "        return 'JNCASR' \n",
    "    elif (\"indian institute of science education and research\" in col.lower()):\n",
    "        return 'IISER'\n",
    "    elif (\"560012\" in col.lower()):\n",
    "        return 'IISc'\n",
    "    \n",
    "    elif (\"laboratory\" in col.lower()):   # NEERI not included, CDRI included\n",
    "        return 'CSIR Labs'\n",
    "    elif (\"center for\" in col.lower()):   # NEERI not included, CDRI included\n",
    "        return 'CSIR Labs'\n",
    "    elif (\"central\" in col.lower()):\n",
    "        if (\"central university\" in col.lower()):\n",
    "            return np.nan\n",
    "        else:\n",
    "            return 'CSIR Labs'\n",
    "    \n",
    "    elif (\"national institute of science education\" in col.lower()):\n",
    "        return 'Other TIER-I'\n",
    "    elif (\"tata institute of\" in col.lower()):  #TIFR\n",
    "        return 'Other TIER-I'\n",
    "    elif (\"indian association\" in col.lower()):  # IACS\n",
    "        return 'Other TIER-I'\n",
    "    elif (\"national institute for interdisciplinary\" in col.lower()):  # NIIIST, Thiruvanthapuram\n",
    "        return 'Other TIER-I'\n",
    "    \n",
    "    \n",
    "    elif (\"birla\" in col.lower()):\n",
    "        return 'BITS'\n",
    "    elif (\"vit university\" in col.lower()):\n",
    "        return 'VIT'\n",
    "    elif (\"vellore institute of technology\" in col.lower()):\n",
    "        return 'VIT'\n",
    "    \n",
    "    else:\n",
    "        return 'Others'"
   ]
  },
  {
   "cell_type": "code",
   "execution_count": 15,
   "metadata": {},
   "outputs": [
    {
     "data": {
      "text/plain": [
       "Others          3036\n",
       "IITs             705\n",
       "CSIR Labs        218\n",
       "IISc             172\n",
       "NITs             152\n",
       "IISER            142\n",
       "BITS              91\n",
       "Other TIER-I      84\n",
       "VIT               42\n",
       "JNCASR            25\n",
       "Name: TIER-I, dtype: int64"
      ]
     },
     "execution_count": 15,
     "metadata": {},
     "output_type": "execute_result"
    }
   ],
   "source": [
    "df['TIER-I'].value_counts(dropna=False)"
   ]
  },
  {
   "cell_type": "code",
   "execution_count": 16,
   "metadata": {},
   "outputs": [
    {
     "data": {
      "text/plain": [
       "Others          2710\n",
       "IITs             911\n",
       "CSIR Labs        218\n",
       "NITs             203\n",
       "IISER            200\n",
       "IISc             172\n",
       "BITS              91\n",
       "Other TIER-I      91\n",
       "VIT               46\n",
       "JNCASR            25\n",
       "Name: TIER-I, dtype: int64"
      ]
     },
     "execution_count": 16,
     "metadata": {},
     "output_type": "execute_result"
    }
   ],
   "source": [
    "df['TIER-I'] = df['Institute'].apply(tier_1)\n",
    "df['TIER-I'] = df['TIER-I'].fillna('Others')\n",
    "df['TIER-I'].value_counts(dropna=False)"
   ]
  },
  {
   "cell_type": "code",
   "execution_count": 17,
   "metadata": {},
   "outputs": [
    {
     "data": {
      "text/plain": [
       "Tamil Nadu                     532\n",
       "West Bengal                    496\n",
       "Maharashtra                    450\n",
       "Karnataka                      437\n",
       "New Delhi                      421\n",
       "Uttar Pradesh                  376\n",
       "Telangana                      276\n",
       "Kerala                         165\n",
       "Odisha                         157\n",
       "Punjab                         152\n",
       "Gujarat                        143\n",
       "Assam                          141\n",
       "Madhya Pradesh                 134\n",
       "Rajasthan                       98\n",
       "Chandigarh                      94\n",
       "Uttarakhand                     92\n",
       "Jammu And Kashmir               69\n",
       "Andhra Pradesh                  67\n",
       "Jharkhand                       66\n",
       "Haryana                         51\n",
       "Puducherry                      41\n",
       "Goa                             40\n",
       "Himachal Pradesh                31\n",
       "Bihar                           26\n",
       "Meghalaya                       24\n",
       "Chhattisgarh                    18\n",
       "Mizoram                         16\n",
       "Manipur                         15\n",
       "Arunachal Pradesh               12\n",
       "Tripura                         10\n",
       "Sikkim                           8\n",
       "Nagaland                         8\n",
       "Andaman And Nicobar Islands      1\n",
       "Name: State, dtype: int64"
      ]
     },
     "execution_count": 17,
     "metadata": {},
     "output_type": "execute_result"
    }
   ],
   "source": [
    "df['State'].value_counts()"
   ]
  },
  {
   "cell_type": "code",
   "execution_count": 18,
   "metadata": {},
   "outputs": [],
   "source": [
    "# write as csv \n",
    "df.to_csv('processed/SERB_all_5_yrs_V3.csv', index=False)"
   ]
  },
  {
   "cell_type": "code",
   "execution_count": null,
   "metadata": {},
   "outputs": [],
   "source": []
  }
 ],
 "metadata": {
  "kernelspec": {
   "display_name": "Python 3",
   "language": "python",
   "name": "python3"
  },
  "language_info": {
   "codemirror_mode": {
    "name": "ipython",
    "version": 3
   },
   "file_extension": ".py",
   "mimetype": "text/x-python",
   "name": "python",
   "nbconvert_exporter": "python",
   "pygments_lexer": "ipython3",
   "version": "3.8.2"
  }
 },
 "nbformat": 4,
 "nbformat_minor": 4
}
